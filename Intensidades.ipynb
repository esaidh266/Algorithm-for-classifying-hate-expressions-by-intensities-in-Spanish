{
  "cells": [
    {
      "cell_type": "code",
      "execution_count": null,
      "metadata": {
        "id": "8CG7PLBzdaGi"
      },
      "outputs": [],
      "source": [
        "from transformers import AutoTokenizer, TFAutoModelForSequenceClassification\n",
        "from sklearn.model_selection import train_test_split\n",
        "from sklearn.utils.class_weight import compute_class_weight\n",
        "from sklearn.metrics import recall_score, precision_score, f1_score, roc_auc_score,accuracy_score, confusion_matrix, classification_report\n",
        "import matplotlib.pyplot as plt\n",
        "\n",
        "import numpy as np\n",
        "import pandas as pd\n",
        "import tensorflow as tf\n",
        "import seaborn as sns"
      ]
    },
    {
      "cell_type": "markdown",
      "metadata": {
        "id": "8SbZeYzWaKC2"
      },
      "source": [
        "# load model"
      ]
    },
    {
      "cell_type": "code",
      "execution_count": 4,
      "metadata": {
        "colab": {
          "base_uri": "https://localhost:8080/",
          "height": 300,
          "referenced_widgets": [
            "020c3d856865409cb4346ebc2c0d9349",
            "d24df3ee54c74a419025bd9f816d0ca3",
            "b22c9c91d6e243e8a13a223201e1e073",
            "93b311ae5dcd4c1a90c28bdeb771d07b",
            "ff5e6a00e2224e7b8e1a12d9e9fd4543",
            "7e75a7328b8c45bfa8f00290977f9b59",
            "99d59f6d8fb44fada0469dfea3d54fce",
            "03b714686c394574b6741069db19881f",
            "23012748f9d54b74a68521f78c574f6b",
            "53d91b0dd6fe47ccaa7e31f595b27b7a",
            "c691926c01f74701b53a1da9f271439f",
            "2d014c333c4a49feba47b86831446bf4",
            "e835081034b047edb1fd4a4651cf4b69",
            "bbde1423765b4c7aa2da7c2a30263b37",
            "7bedb2568b5f40d998beab83aead4e52",
            "2552bd6c418243978260d3020b875dcf",
            "696b9933d1ee4579850a57b5bbac4fde",
            "63d5bf680b004f499977f53a8475fbca",
            "772ad18522bc46658fb601c8544719ca",
            "8ac9a131ae9e41eab61646d38050a931",
            "53332d1e2b094064895789be35250ba3",
            "7e9f0161bf5440c485471cce52595c22"
          ]
        },
        "id": "F7DdrTkFd0f5",
        "outputId": "4ac68b62-0bea-4c65-fa67-1181e5547b0f"
      },
      "outputs": [
        {
          "name": "stderr",
          "output_type": "stream",
          "text": [
            "/usr/local/lib/python3.11/dist-packages/huggingface_hub/utils/_auth.py:94: UserWarning: \n",
            "The secret `HF_TOKEN` does not exist in your Colab secrets.\n",
            "To authenticate with the Hugging Face Hub, create a token in your settings tab (https://huggingface.co/settings/tokens), set it as secret in your Google Colab and restart your session.\n",
            "You will be able to reuse this secret in all of your notebooks.\n",
            "Please note that authentication is recommended but still optional to access public models or datasets.\n",
            "  warnings.warn(\n"
          ]
        },
        {
          "data": {
            "application/vnd.jupyter.widget-view+json": {
              "model_id": "020c3d856865409cb4346ebc2c0d9349",
              "version_major": 2,
              "version_minor": 0
            },
            "text/plain": [
              "config.json:   0%|          | 0.00/677 [00:00<?, ?B/s]"
            ]
          },
          "metadata": {},
          "output_type": "display_data"
        },
        {
          "data": {
            "application/vnd.jupyter.widget-view+json": {
              "model_id": "2d014c333c4a49feba47b86831446bf4",
              "version_major": 2,
              "version_minor": 0
            },
            "text/plain": [
              "model.safetensors:   0%|          | 0.00/435M [00:00<?, ?B/s]"
            ]
          },
          "metadata": {},
          "output_type": "display_data"
        },
        {
          "name": "stderr",
          "output_type": "stream",
          "text": [
            "Some weights of the PyTorch model were not used when initializing the TF 2.0 model TFRobertaForSequenceClassification: ['roberta.embeddings.position_ids']\n",
            "- This IS expected if you are initializing TFRobertaForSequenceClassification from a PyTorch model trained on another task or with another architecture (e.g. initializing a TFBertForSequenceClassification model from a BertForPreTraining model).\n",
            "- This IS NOT expected if you are initializing TFRobertaForSequenceClassification from a PyTorch model that you expect to be exactly identical (e.g. initializing a TFBertForSequenceClassification model from a BertForSequenceClassification model).\n",
            "Some weights or buffers of the TF 2.0 model TFRobertaForSequenceClassification were not initialized from the PyTorch model and are newly initialized: ['classifier.dense.weight', 'classifier.dense.bias', 'classifier.out_proj.weight', 'classifier.out_proj.bias']\n",
            "You should probably TRAIN this model on a down-stream task to be able to use it for predictions and inference.\n"
          ]
        }
      ],
      "source": [
        "# 4. Initialize classification model\n",
        "classification_model = TFAutoModelForSequenceClassification.from_pretrained(\n",
        "    \"pysentimiento/robertuito-base-uncased\",\n",
        "    num_labels=4,\n",
        "    output_attentions=True,\n",
        "    ignore_mismatched_sizes=True  # Required for architecture change\n",
        ")\n",
        "\n",
        "tokenizer = AutoTokenizer.from_pretrained(\"/content/drive/MyDrive/HateMedia/Modelos/OdioNoOdio/Final/hate-trained-robertuito_OdioNoOdio_final_new_cardiff_extra_layer_tokenizer\")\n",
        "tokenizer.model_max_length = 128\n",
        "\n",
        "classification_model.get_layer('roberta').trainable = True\n",
        "classification_model.get_layer('classifier').trainable = True"
      ]
    },
    {
      "cell_type": "code",
      "execution_count": null,
      "metadata": {
        "id": "T-D89mY0njes"
      },
      "outputs": [],
      "source": [
        "# Re-define the model architecture\n",
        "num_labels = 4\n",
        "\n",
        "# set input ids as input\n",
        "input_ids = tf.keras.layers.Input(shape=(128,), dtype=tf.int32, name='input_ids')\n",
        "\n",
        "# set attention mask as input\n",
        "attention_mask = tf.keras.layers.Input(shape=(128,), dtype=tf.int32, name='attention_mask')\n",
        "\n",
        "# modify the model\n",
        "output = classification_model(input_ids, attention_mask=attention_mask)[0]\n",
        "output = tf.keras.layers.Dense(num_labels)(output[:, :])\n",
        "\n",
        "# set the model to its final form\n",
        "classification_model = tf.keras.Model(inputs=[input_ids, attention_mask], outputs=output)\n"
      ]
    },
    {
      "cell_type": "code",
      "execution_count": 6,
      "metadata": {
        "colab": {
          "base_uri": "https://localhost:8080/"
        },
        "id": "7UVkYe-Udnkq",
        "outputId": "3cdde053-54cf-4620-c82c-49461f73e2f0"
      },
      "outputs": [
        {
          "name": "stderr",
          "output_type": "stream",
          "text": [
            "WARNING:tensorflow:Skipping loading weights for layer #2 (named tf_roberta_for_sequence_classification) due to mismatch in shape for weight tf_roberta_for_sequence_classification/classifier/out_proj/kernel:0. Weight expects shape (768, 4). Received saved weight with shape (768, 2)\n",
            "WARNING:tensorflow:Skipping loading weights for layer #2 (named tf_roberta_for_sequence_classification) due to mismatch in shape for weight tf_roberta_for_sequence_classification/classifier/out_proj/bias:0. Weight expects shape (4,). Received saved weight with shape (2,)\n",
            "WARNING:tensorflow:Skipping loading weights for layer #4 (named dense) due to mismatch in shape for weight dense/kernel:0. Weight expects shape (4, 4). Received saved weight with shape (2, 2)\n",
            "WARNING:tensorflow:Skipping loading weights for layer #4 (named dense) due to mismatch in shape for weight dense/bias:0. Weight expects shape (4,). Received saved weight with shape (2,)\n"
          ]
        }
      ],
      "source": [
        "# Rebuild the model architecture first\n",
        "classification_model.load_weights(\"/content/drive/MyDrive/HateMedia/Modelos/OdioNoOdio/Final/hate-trained-robertuito_OdioNoOdio_final_new_cardiff_extra_layer.h5\",skip_mismatch=True, by_name=True)"
      ]
    },
    {
      "cell_type": "code",
      "execution_count": 7,
      "metadata": {
        "colab": {
          "base_uri": "https://localhost:8080/"
        },
        "id": "IDYO0RwWhBc5",
        "outputId": "0c36b021-d9e0-4e1b-cf37-944199883847"
      },
      "outputs": [
        {
          "name": "stdout",
          "output_type": "stream",
          "text": [
            "Model: \"model\"\n",
            "__________________________________________________________________________________________________\n",
            " Layer (type)                Output Shape                 Param #   Connected to                  \n",
            "==================================================================================================\n",
            " input_ids (InputLayer)      [(None, 128)]                0         []                            \n",
            "                                                                                                  \n",
            " attention_mask (InputLayer  [(None, 128)]                0         []                            \n",
            " )                                                                                                \n",
            "                                                                                                  \n",
            " tf_roberta_for_sequence_cl  TFSequenceClassifierOutput   1087902   ['input_ids[0][0]',           \n",
            " assification (TFRobertaFor  (loss=None, logits=(None,    76         'attention_mask[0][0]']      \n",
            " SequenceClassification)     4),                                                                  \n",
            "                              hidden_states=None, atten                                           \n",
            "                             tions=((None, 12, None, 12                                           \n",
            "                             8),                                                                  \n",
            "                              (None, 12, None, 128),                                              \n",
            "                              (None, 12, None, 128),                                              \n",
            "                              (None, 12, None, 128),                                              \n",
            "                              (None, 12, None, 128),                                              \n",
            "                              (None, 12, None, 128),                                              \n",
            "                              (None, 12, None, 128),                                              \n",
            "                              (None, 12, None, 128),                                              \n",
            "                              (None, 12, None, 128),                                              \n",
            "                              (None, 12, None, 128),                                              \n",
            "                              (None, 12, None, 128),                                              \n",
            "                              (None, 12, None, 128)))                                             \n",
            "                                                                                                  \n",
            " tf.__operators__.getitem (  (None, 4)                    0         ['tf_roberta_for_sequence_clas\n",
            " SlicingOpLambda)                                                   sification[0][12]']           \n",
            "                                                                                                  \n",
            " dense (Dense)               (None, 4)                    20        ['tf.__operators__.getitem[0][\n",
            "                                                                    0]']                          \n",
            "                                                                                                  \n",
            "==================================================================================================\n",
            "Total params: 108790296 (415.00 MB)\n",
            "Trainable params: 108790296 (415.00 MB)\n",
            "Non-trainable params: 0 (0.00 Byte)\n",
            "__________________________________________________________________________________________________\n"
          ]
        }
      ],
      "source": [
        "classification_model.summary()"
      ]
    },
    {
      "cell_type": "markdown",
      "metadata": {
        "id": "MS85yiK5aL5Q"
      },
      "source": [
        "# Read data"
      ]
    },
    {
      "cell_type": "code",
      "execution_count": 8,
      "metadata": {
        "id": "9PD30bKFbpRj"
      },
      "outputs": [],
      "source": [
        "# Preprocess data function to create TensorFlow datasets\n",
        "def preprocess_data(split_df,num_labels):\n",
        "# Tokenize the texts and set maximum length, truncation and padding size\n",
        "  texts = split_df['text'].tolist()\n",
        "  encodings = tokenizer(texts, truncation=True, padding='max_length', max_length=128,return_token_type_ids=False)\n",
        "\n",
        "# Convert the labels to one-hot encoding\n",
        "  labels = split_df['label'].tolist()\n",
        "  labels_encoded = tf.one_hot(labels, num_labels)\n",
        "\n",
        "# Create TensorFlow datasets\n",
        "  dataset = tf.data.Dataset.from_tensor_slices((dict(encodings), labels_encoded))\n",
        "\n",
        "  return dataset"
      ]
    },
    {
      "cell_type": "code",
      "execution_count": null,
      "metadata": {
        "colab": {
          "base_uri": "https://localhost:8080/",
          "height": 423
        },
        "id": "-c7MsoYXaM1Q",
        "outputId": "dcdac064-b601-4c6f-d30f-b85c2201b0ce"
      },
      "outputs": [
        {
          "data": {
            "application/vnd.google.colaboratory.intrinsic+json": {
              "type": "dataframe",
              "variable_name": "df_in"
            },
            "text/html": [
              "\n",
              "  <div id=\"df-f3f56011-0dd7-41b3-9ecb-a268a9d709aa\" class=\"colab-df-container\">\n",
              "    <div>\n",
              "<style scoped>\n",
              "    .dataframe tbody tr th:only-of-type {\n",
              "        vertical-align: middle;\n",
              "    }\n",
              "\n",
              "    .dataframe tbody tr th {\n",
              "        vertical-align: top;\n",
              "    }\n",
              "\n",
              "    .dataframe thead th {\n",
              "        text-align: right;\n",
              "    }\n",
              "</style>\n",
              "<table border=\"1\" class=\"dataframe\">\n",
              "  <thead>\n",
              "    <tr style=\"text-align: right;\">\n",
              "      <th></th>\n",
              "      <th>text</th>\n",
              "      <th>label</th>\n",
              "    </tr>\n",
              "  </thead>\n",
              "  <tbody>\n",
              "    <tr>\n",
              "      <th>0</th>\n",
              "      <td>@usuario la policía adoctrinada bajo los gobie...</td>\n",
              "      <td>1</td>\n",
              "    </tr>\n",
              "    <tr>\n",
              "      <th>1</th>\n",
              "      <td>@usuario porque ustedes deben ser corderos muy...</td>\n",
              "      <td>1</td>\n",
              "    </tr>\n",
              "    <tr>\n",
              "      <th>2</th>\n",
              "      <td>El sistema inmunológico ha sido aplastado con ...</td>\n",
              "      <td>1</td>\n",
              "    </tr>\n",
              "    <tr>\n",
              "      <th>3</th>\n",
              "      <td>En este caso muerto el perro sigue la rabia</td>\n",
              "      <td>1</td>\n",
              "    </tr>\n",
              "    <tr>\n",
              "      <th>4</th>\n",
              "      <td>olvidas tu nacionalidad que eres un panfleto g...</td>\n",
              "      <td>1</td>\n",
              "    </tr>\n",
              "    <tr>\n",
              "      <th>...</th>\n",
              "      <td>...</td>\n",
              "      <td>...</td>\n",
              "    </tr>\n",
              "    <tr>\n",
              "      <th>352944</th>\n",
              "      <td>avanza hacia el abismo</td>\n",
              "      <td>0</td>\n",
              "    </tr>\n",
              "    <tr>\n",
              "      <th>352945</th>\n",
              "      <td>pero eso no es populismo claropopulismo es qui...</td>\n",
              "      <td>1</td>\n",
              "    </tr>\n",
              "    <tr>\n",
              "      <th>352946</th>\n",
              "      <td>Como en 33.</td>\n",
              "      <td>0</td>\n",
              "    </tr>\n",
              "    <tr>\n",
              "      <th>352947</th>\n",
              "      <td>avanza al abismo</td>\n",
              "      <td>0</td>\n",
              "    </tr>\n",
              "    <tr>\n",
              "      <th>352948</th>\n",
              "      <td>si avanza hacia el avismo</td>\n",
              "      <td>0</td>\n",
              "    </tr>\n",
              "  </tbody>\n",
              "</table>\n",
              "<p>352949 rows × 2 columns</p>\n",
              "</div>\n",
              "    <div class=\"colab-df-buttons\">\n",
              "\n",
              "  <div class=\"colab-df-container\">\n",
              "    <button class=\"colab-df-convert\" onclick=\"convertToInteractive('df-f3f56011-0dd7-41b3-9ecb-a268a9d709aa')\"\n",
              "            title=\"Convert this dataframe to an interactive table.\"\n",
              "            style=\"display:none;\">\n",
              "\n",
              "  <svg xmlns=\"http://www.w3.org/2000/svg\" height=\"24px\" viewBox=\"0 -960 960 960\">\n",
              "    <path d=\"M120-120v-720h720v720H120Zm60-500h600v-160H180v160Zm220 220h160v-160H400v160Zm0 220h160v-160H400v160ZM180-400h160v-160H180v160Zm440 0h160v-160H620v160ZM180-180h160v-160H180v160Zm440 0h160v-160H620v160Z\"/>\n",
              "  </svg>\n",
              "    </button>\n",
              "\n",
              "  <style>\n",
              "    .colab-df-container {\n",
              "      display:flex;\n",
              "      gap: 12px;\n",
              "    }\n",
              "\n",
              "    .colab-df-convert {\n",
              "      background-color: #E8F0FE;\n",
              "      border: none;\n",
              "      border-radius: 50%;\n",
              "      cursor: pointer;\n",
              "      display: none;\n",
              "      fill: #1967D2;\n",
              "      height: 32px;\n",
              "      padding: 0 0 0 0;\n",
              "      width: 32px;\n",
              "    }\n",
              "\n",
              "    .colab-df-convert:hover {\n",
              "      background-color: #E2EBFA;\n",
              "      box-shadow: 0px 1px 2px rgba(60, 64, 67, 0.3), 0px 1px 3px 1px rgba(60, 64, 67, 0.15);\n",
              "      fill: #174EA6;\n",
              "    }\n",
              "\n",
              "    .colab-df-buttons div {\n",
              "      margin-bottom: 4px;\n",
              "    }\n",
              "\n",
              "    [theme=dark] .colab-df-convert {\n",
              "      background-color: #3B4455;\n",
              "      fill: #D2E3FC;\n",
              "    }\n",
              "\n",
              "    [theme=dark] .colab-df-convert:hover {\n",
              "      background-color: #434B5C;\n",
              "      box-shadow: 0px 1px 3px 1px rgba(0, 0, 0, 0.15);\n",
              "      filter: drop-shadow(0px 1px 2px rgba(0, 0, 0, 0.3));\n",
              "      fill: #FFFFFF;\n",
              "    }\n",
              "  </style>\n",
              "\n",
              "    <script>\n",
              "      const buttonEl =\n",
              "        document.querySelector('#df-f3f56011-0dd7-41b3-9ecb-a268a9d709aa button.colab-df-convert');\n",
              "      buttonEl.style.display =\n",
              "        google.colab.kernel.accessAllowed ? 'block' : 'none';\n",
              "\n",
              "      async function convertToInteractive(key) {\n",
              "        const element = document.querySelector('#df-f3f56011-0dd7-41b3-9ecb-a268a9d709aa');\n",
              "        const dataTable =\n",
              "          await google.colab.kernel.invokeFunction('convertToInteractive',\n",
              "                                                    [key], {});\n",
              "        if (!dataTable) return;\n",
              "\n",
              "        const docLinkHtml = 'Like what you see? Visit the ' +\n",
              "          '<a target=\"_blank\" href=https://colab.research.google.com/notebooks/data_table.ipynb>data table notebook</a>'\n",
              "          + ' to learn more about interactive tables.';\n",
              "        element.innerHTML = '';\n",
              "        dataTable['output_type'] = 'display_data';\n",
              "        await google.colab.output.renderOutput(dataTable, element);\n",
              "        const docLink = document.createElement('div');\n",
              "        docLink.innerHTML = docLinkHtml;\n",
              "        element.appendChild(docLink);\n",
              "      }\n",
              "    </script>\n",
              "  </div>\n",
              "\n",
              "\n",
              "    <div id=\"df-b258c751-9644-4ebb-8a63-7f94a311f3a6\">\n",
              "      <button class=\"colab-df-quickchart\" onclick=\"quickchart('df-b258c751-9644-4ebb-8a63-7f94a311f3a6')\"\n",
              "                title=\"Suggest charts\"\n",
              "                style=\"display:none;\">\n",
              "\n",
              "<svg xmlns=\"http://www.w3.org/2000/svg\" height=\"24px\"viewBox=\"0 0 24 24\"\n",
              "     width=\"24px\">\n",
              "    <g>\n",
              "        <path d=\"M19 3H5c-1.1 0-2 .9-2 2v14c0 1.1.9 2 2 2h14c1.1 0 2-.9 2-2V5c0-1.1-.9-2-2-2zM9 17H7v-7h2v7zm4 0h-2V7h2v10zm4 0h-2v-4h2v4z\"/>\n",
              "    </g>\n",
              "</svg>\n",
              "      </button>\n",
              "\n",
              "<style>\n",
              "  .colab-df-quickchart {\n",
              "      --bg-color: #E8F0FE;\n",
              "      --fill-color: #1967D2;\n",
              "      --hover-bg-color: #E2EBFA;\n",
              "      --hover-fill-color: #174EA6;\n",
              "      --disabled-fill-color: #AAA;\n",
              "      --disabled-bg-color: #DDD;\n",
              "  }\n",
              "\n",
              "  [theme=dark] .colab-df-quickchart {\n",
              "      --bg-color: #3B4455;\n",
              "      --fill-color: #D2E3FC;\n",
              "      --hover-bg-color: #434B5C;\n",
              "      --hover-fill-color: #FFFFFF;\n",
              "      --disabled-bg-color: #3B4455;\n",
              "      --disabled-fill-color: #666;\n",
              "  }\n",
              "\n",
              "  .colab-df-quickchart {\n",
              "    background-color: var(--bg-color);\n",
              "    border: none;\n",
              "    border-radius: 50%;\n",
              "    cursor: pointer;\n",
              "    display: none;\n",
              "    fill: var(--fill-color);\n",
              "    height: 32px;\n",
              "    padding: 0;\n",
              "    width: 32px;\n",
              "  }\n",
              "\n",
              "  .colab-df-quickchart:hover {\n",
              "    background-color: var(--hover-bg-color);\n",
              "    box-shadow: 0 1px 2px rgba(60, 64, 67, 0.3), 0 1px 3px 1px rgba(60, 64, 67, 0.15);\n",
              "    fill: var(--button-hover-fill-color);\n",
              "  }\n",
              "\n",
              "  .colab-df-quickchart-complete:disabled,\n",
              "  .colab-df-quickchart-complete:disabled:hover {\n",
              "    background-color: var(--disabled-bg-color);\n",
              "    fill: var(--disabled-fill-color);\n",
              "    box-shadow: none;\n",
              "  }\n",
              "\n",
              "  .colab-df-spinner {\n",
              "    border: 2px solid var(--fill-color);\n",
              "    border-color: transparent;\n",
              "    border-bottom-color: var(--fill-color);\n",
              "    animation:\n",
              "      spin 1s steps(1) infinite;\n",
              "  }\n",
              "\n",
              "  @keyframes spin {\n",
              "    0% {\n",
              "      border-color: transparent;\n",
              "      border-bottom-color: var(--fill-color);\n",
              "      border-left-color: var(--fill-color);\n",
              "    }\n",
              "    20% {\n",
              "      border-color: transparent;\n",
              "      border-left-color: var(--fill-color);\n",
              "      border-top-color: var(--fill-color);\n",
              "    }\n",
              "    30% {\n",
              "      border-color: transparent;\n",
              "      border-left-color: var(--fill-color);\n",
              "      border-top-color: var(--fill-color);\n",
              "      border-right-color: var(--fill-color);\n",
              "    }\n",
              "    40% {\n",
              "      border-color: transparent;\n",
              "      border-right-color: var(--fill-color);\n",
              "      border-top-color: var(--fill-color);\n",
              "    }\n",
              "    60% {\n",
              "      border-color: transparent;\n",
              "      border-right-color: var(--fill-color);\n",
              "    }\n",
              "    80% {\n",
              "      border-color: transparent;\n",
              "      border-right-color: var(--fill-color);\n",
              "      border-bottom-color: var(--fill-color);\n",
              "    }\n",
              "    90% {\n",
              "      border-color: transparent;\n",
              "      border-bottom-color: var(--fill-color);\n",
              "    }\n",
              "  }\n",
              "</style>\n",
              "\n",
              "      <script>\n",
              "        async function quickchart(key) {\n",
              "          const quickchartButtonEl =\n",
              "            document.querySelector('#' + key + ' button');\n",
              "          quickchartButtonEl.disabled = true;  // To prevent multiple clicks.\n",
              "          quickchartButtonEl.classList.add('colab-df-spinner');\n",
              "          try {\n",
              "            const charts = await google.colab.kernel.invokeFunction(\n",
              "                'suggestCharts', [key], {});\n",
              "          } catch (error) {\n",
              "            console.error('Error during call to suggestCharts:', error);\n",
              "          }\n",
              "          quickchartButtonEl.classList.remove('colab-df-spinner');\n",
              "          quickchartButtonEl.classList.add('colab-df-quickchart-complete');\n",
              "        }\n",
              "        (() => {\n",
              "          let quickchartButtonEl =\n",
              "            document.querySelector('#df-b258c751-9644-4ebb-8a63-7f94a311f3a6 button');\n",
              "          quickchartButtonEl.style.display =\n",
              "            google.colab.kernel.accessAllowed ? 'block' : 'none';\n",
              "        })();\n",
              "      </script>\n",
              "    </div>\n",
              "\n",
              "  <div id=\"id_643ce117-dd0a-4fcb-afa0-ada3e9b7178d\">\n",
              "    <style>\n",
              "      .colab-df-generate {\n",
              "        background-color: #E8F0FE;\n",
              "        border: none;\n",
              "        border-radius: 50%;\n",
              "        cursor: pointer;\n",
              "        display: none;\n",
              "        fill: #1967D2;\n",
              "        height: 32px;\n",
              "        padding: 0 0 0 0;\n",
              "        width: 32px;\n",
              "      }\n",
              "\n",
              "      .colab-df-generate:hover {\n",
              "        background-color: #E2EBFA;\n",
              "        box-shadow: 0px 1px 2px rgba(60, 64, 67, 0.3), 0px 1px 3px 1px rgba(60, 64, 67, 0.15);\n",
              "        fill: #174EA6;\n",
              "      }\n",
              "\n",
              "      [theme=dark] .colab-df-generate {\n",
              "        background-color: #3B4455;\n",
              "        fill: #D2E3FC;\n",
              "      }\n",
              "\n",
              "      [theme=dark] .colab-df-generate:hover {\n",
              "        background-color: #434B5C;\n",
              "        box-shadow: 0px 1px 3px 1px rgba(0, 0, 0, 0.15);\n",
              "        filter: drop-shadow(0px 1px 2px rgba(0, 0, 0, 0.3));\n",
              "        fill: #FFFFFF;\n",
              "      }\n",
              "    </style>\n",
              "    <button class=\"colab-df-generate\" onclick=\"generateWithVariable('df_in')\"\n",
              "            title=\"Generate code using this dataframe.\"\n",
              "            style=\"display:none;\">\n",
              "\n",
              "  <svg xmlns=\"http://www.w3.org/2000/svg\" height=\"24px\"viewBox=\"0 0 24 24\"\n",
              "       width=\"24px\">\n",
              "    <path d=\"M7,19H8.4L18.45,9,17,7.55,7,17.6ZM5,21V16.75L18.45,3.32a2,2,0,0,1,2.83,0l1.4,1.43a1.91,1.91,0,0,1,.58,1.4,1.91,1.91,0,0,1-.58,1.4L9.25,21ZM18.45,9,17,7.55Zm-12,3A5.31,5.31,0,0,0,4.9,8.1,5.31,5.31,0,0,0,1,6.5,5.31,5.31,0,0,0,4.9,4.9,5.31,5.31,0,0,0,6.5,1,5.31,5.31,0,0,0,8.1,4.9,5.31,5.31,0,0,0,12,6.5,5.46,5.46,0,0,0,6.5,12Z\"/>\n",
              "  </svg>\n",
              "    </button>\n",
              "    <script>\n",
              "      (() => {\n",
              "      const buttonEl =\n",
              "        document.querySelector('#id_643ce117-dd0a-4fcb-afa0-ada3e9b7178d button.colab-df-generate');\n",
              "      buttonEl.style.display =\n",
              "        google.colab.kernel.accessAllowed ? 'block' : 'none';\n",
              "\n",
              "      buttonEl.onclick = () => {\n",
              "        google.colab.notebook.generateWithVariable('df_in');\n",
              "      }\n",
              "      })();\n",
              "    </script>\n",
              "  </div>\n",
              "\n",
              "    </div>\n",
              "  </div>\n"
            ],
            "text/plain": [
              "                                                     text  label\n",
              "0       @usuario la policía adoctrinada bajo los gobie...      1\n",
              "1       @usuario porque ustedes deben ser corderos muy...      1\n",
              "2       El sistema inmunológico ha sido aplastado con ...      1\n",
              "3             En este caso muerto el perro sigue la rabia      1\n",
              "4       olvidas tu nacionalidad que eres un panfleto g...      1\n",
              "...                                                   ...    ...\n",
              "352944                             avanza hacia el abismo      0\n",
              "352945  pero eso no es populismo claropopulismo es qui...      1\n",
              "352946                                        Como en 33.      0\n",
              "352947                                   avanza al abismo      0\n",
              "352948                          si avanza hacia el avismo      0\n",
              "\n",
              "[352949 rows x 2 columns]"
            ]
          },
          "execution_count": 9,
          "metadata": {},
          "output_type": "execute_result"
        }
      ],
      "source": [
        "# load data\n",
        "df_in = pd.read_csv('/content/drive/MyDrive/HateMedia/Data/Procesada/Intensidades/df_intensidades.csv')\n",
        "# drop na values\n",
        "df_in = df_in.dropna(subset=['text'])\n",
        "df_in = df_in.dropna(subset=['label'])\n",
        "# reset index\n",
        "df_in = df_in.reset_index(drop=True)\n",
        "\n",
        "# set labels 0=Incívicos,1=Malintencionado,2=Insulto,3=Amenaza\n",
        "df_in['label'] = df_in['label'] -1\n",
        "df_in['label'] = df_in['label'].astype(int)\n",
        "df_in"
      ]
    },
    {
      "cell_type": "code",
      "execution_count": 10,
      "metadata": {
        "colab": {
          "base_uri": "https://localhost:8080/",
          "height": 240
        },
        "id": "STkhd3ZoD4bK",
        "outputId": "b1cc1154-391d-48ea-9f29-2c7ff3927db4"
      },
      "outputs": [
        {
          "data": {
            "text/html": [
              "<div>\n",
              "<style scoped>\n",
              "    .dataframe tbody tr th:only-of-type {\n",
              "        vertical-align: middle;\n",
              "    }\n",
              "\n",
              "    .dataframe tbody tr th {\n",
              "        vertical-align: top;\n",
              "    }\n",
              "\n",
              "    .dataframe thead th {\n",
              "        text-align: right;\n",
              "    }\n",
              "</style>\n",
              "<table border=\"1\" class=\"dataframe\">\n",
              "  <thead>\n",
              "    <tr style=\"text-align: right;\">\n",
              "      <th></th>\n",
              "      <th>count</th>\n",
              "    </tr>\n",
              "    <tr>\n",
              "      <th>label</th>\n",
              "      <th></th>\n",
              "    </tr>\n",
              "  </thead>\n",
              "  <tbody>\n",
              "    <tr>\n",
              "      <th>1</th>\n",
              "      <td>109248</td>\n",
              "    </tr>\n",
              "    <tr>\n",
              "      <th>0</th>\n",
              "      <td>105321</td>\n",
              "    </tr>\n",
              "    <tr>\n",
              "      <th>3</th>\n",
              "      <td>99250</td>\n",
              "    </tr>\n",
              "    <tr>\n",
              "      <th>2</th>\n",
              "      <td>39130</td>\n",
              "    </tr>\n",
              "  </tbody>\n",
              "</table>\n",
              "</div><br><label><b>dtype:</b> int64</label>"
            ],
            "text/plain": [
              "label\n",
              "1    109248\n",
              "0    105321\n",
              "3     99250\n",
              "2     39130\n",
              "Name: count, dtype: int64"
            ]
          },
          "execution_count": 10,
          "metadata": {},
          "output_type": "execute_result"
        }
      ],
      "source": [
        "# see class distribution\n",
        "df_in['label'].value_counts()"
      ]
    },
    {
      "cell_type": "code",
      "execution_count": 11,
      "metadata": {
        "id": "5OEsni9hEANd"
      },
      "outputs": [],
      "source": [
        "# Split your DataFrame\n",
        "train_df, temp_df = train_test_split(df_in, test_size=0.2, random_state=42)\n",
        "val_df, test_df = train_test_split(temp_df, test_size=0.5, random_state=42)\n",
        "\n",
        "# convert to tensorflow, tokenize and create datasets in trainable format\n",
        "num_labels = len(df_in['label'].unique())\n",
        "train_dataset = preprocess_data(train_df,num_labels)\n",
        "test_dataset = preprocess_data(test_df,num_labels)\n",
        "val_dataset = preprocess_data(val_df,num_labels)\n"
      ]
    },
    {
      "cell_type": "code",
      "execution_count": null,
      "metadata": {
        "colab": {
          "base_uri": "https://localhost:8080/"
        },
        "id": "0SsVwuB5mmfl",
        "outputId": "b3672662-965b-4e49-a512-4467baf0c2f8"
      },
      "outputs": [
        {
          "data": {
            "text/plain": [
              "{0: 0.84, 1: 0.81, 2: 2.25, 3: 0.89}"
            ]
          },
          "execution_count": 12,
          "metadata": {},
          "output_type": "execute_result"
        }
      ],
      "source": [
        "# Compute class weights based on the number of samples of each class.\n",
        "# class weights will be given by n_samples / (n_classes * np.bincount(y))\n",
        "\n",
        "class_weight = compute_class_weight(class_weight=\"balanced\", classes=np.unique(train_df['label']), y=train_df['label'])\n",
        "class_weight = np.round(class_weight,2).tolist()\n",
        "class_weight = {i: class_weight[i] for i in range(len(class_weight))}\n",
        "class_weight"
      ]
    },
    {
      "cell_type": "markdown",
      "metadata": {
        "id": "6kflWHLAEJbf"
      },
      "source": [
        "# Train"
      ]
    },
    {
      "cell_type": "code",
      "execution_count": 13,
      "metadata": {
        "id": "FTBhIsR3ccHY"
      },
      "outputs": [],
      "source": [
        "# create a warmup schedule\n",
        "class WarmupLinearSchedule(tf.keras.optimizers.schedules.LearningRateSchedule):\n",
        "    def __init__(self, warmup_steps, max_lr=2e-5):\n",
        "        super().__init__()\n",
        "        # cast warmup_steps and max_lr to float to tensorflow format\n",
        "        self.warmup_steps = tf.cast(warmup_steps, tf.float32)\n",
        "        self.max_lr = max_lr\n",
        "\n",
        "    def __call__(self, step):\n",
        "        # cast step to tensorflow format\n",
        "        step = tf.cast(step, tf.float32)\n",
        "        # Linear warmup\n",
        "        lr = self.max_lr * (step / self.warmup_steps)\n",
        "        # After warmup, keep constant LR\n",
        "        return tf.minimum(lr, self.max_lr)"
      ]
    },
    {
      "cell_type": "code",
      "execution_count": 14,
      "metadata": {
        "colab": {
          "base_uri": "https://localhost:8080/"
        },
        "id": "TFJoW1B1biUB",
        "outputId": "8cc95a58-1894-477e-b8c3-40a27d212230"
      },
      "outputs": [
        {
          "name": "stdout",
          "output_type": "stream",
          "text": [
            "total_steps: 11025 - warmup_steps: 1102\n"
          ]
        }
      ],
      "source": [
        "# Calculate training parameters\n",
        "batch_size = 128\n",
        "epochs = 5\n",
        "steps_per_epoch = len(train_df) // batch_size\n",
        "total_steps = steps_per_epoch * epochs\n",
        "warmup_steps = int(0.1 * total_steps)  # 10% warmup\n",
        "print(\"total_steps:\",total_steps,\"- warmup_steps:\",warmup_steps)"
      ]
    },
    {
      "cell_type": "code",
      "execution_count": 15,
      "metadata": {
        "id": "t3B6PrlhpkAj"
      },
      "outputs": [],
      "source": [
        "# Initialize optimizer\n",
        "optimizer = tf.keras.optimizers.Adam(\n",
        "    learning_rate=WarmupLinearSchedule(\n",
        "        warmup_steps=warmup_steps,\n",
        "        max_lr=2e-5))\n",
        "\n",
        "# Early Stopping callback\n",
        "callback = tf.keras.callbacks.EarlyStopping(\n",
        "    monitor='val_f1_score',\n",
        "    mode='max',\n",
        "    restore_best_weights=True,\n",
        "    patience=2,\n",
        "    verbose=1)"
      ]
    },
    {
      "cell_type": "code",
      "execution_count": null,
      "metadata": {
        "colab": {
          "base_uri": "https://localhost:8080/"
        },
        "id": "pGHXDsYBEAQf",
        "outputId": "503a154b-aac2-44ef-80ef-c9bfef344603"
      },
      "outputs": [
        {
          "name": "stdout",
          "output_type": "stream",
          "text": [
            "Epoch 1/5\n",
            "2206/2206 [==============================] - 776s 332ms/step - loss: 1.0612 - recall: 0.6281 - precision: 0.3842 - accuracy: 0.0000e+00 - f1_score: 0.5106 - AUC: 0.4089 - recall_at_precision: 0.0000e+00 - precision_at_recall: 0.2208 - val_loss: 1.3698 - val_recall: 0.0000e+00 - val_precision: 1.0000 - val_accuracy: 0.0000e+00 - val_f1_score: 0.1380 - val_AUC: 0.2750 - val_recall_at_precision: 1.0174e-04 - val_precision_at_recall: 0.0000e+00\n",
            "Epoch 2/5\n",
            "2206/2206 [==============================] - 727s 330ms/step - loss: 1.3770 - recall: 0.1883 - precision: 0.3590 - accuracy: 0.0000e+00 - f1_score: 0.2512 - AUC: 0.2664 - recall_at_precision: 0.0000e+00 - precision_at_recall: 0.1296 - val_loss: 1.3583 - val_recall: 0.0000e+00 - val_precision: 0.0000e+00 - val_accuracy: 0.0000e+00 - val_f1_score: 0.1380 - val_AUC: 0.2832 - val_recall_at_precision: 4.0696e-04 - val_precision_at_recall: 0.0000e+00\n",
            "Epoch 3/5\n",
            "2206/2206 [==============================] - 727s 329ms/step - loss: 1.3715 - recall: 0.2338 - precision: 0.3688 - accuracy: 0.0000e+00 - f1_score: 0.2411 - AUC: 0.2718 - recall_at_precision: 0.0000e+00 - precision_at_recall: 0.1318 - val_loss: 1.3580 - val_recall: 0.0000e+00 - val_precision: 0.0000e+00 - val_accuracy: 0.0000e+00 - val_f1_score: 0.1379 - val_AUC: 0.2831 - val_recall_at_precision: 0.0000e+00 - val_precision_at_recall: 0.0000e+00\n",
            "Epoch 4/5\n",
            "2206/2206 [==============================] - 727s 330ms/step - loss: 1.3562 - recall: 0.2954 - precision: 0.3462 - accuracy: 0.0000e+00 - f1_score: 0.2415 - AUC: 0.2836 - recall_at_precision: 0.0000e+00 - precision_at_recall: 0.1401 - val_loss: 1.1525 - val_recall: 0.4711 - val_precision: 0.1346 - val_accuracy: 0.0000e+00 - val_f1_score: 0.3877 - val_AUC: 0.4083 - val_recall_at_precision: 0.0000e+00 - val_precision_at_recall: 0.0000e+00\n",
            "Epoch 5/5\n",
            "2206/2206 [==============================] - 727s 329ms/step - loss: 0.9497 - recall: 0.8556 - precision: 0.3516 - accuracy: 0.0000e+00 - f1_score: 0.5956 - AUC: 0.4420 - recall_at_precision: 0.0000e+00 - precision_at_recall: 0.2779 - val_loss: 0.9350 - val_recall: 0.8671 - val_precision: 0.3219 - val_accuracy: 0.0000e+00 - val_f1_score: 0.6350 - val_AUC: 0.4818 - val_recall_at_precision: 0.0000e+00 - val_precision_at_recall: 0.2753\n",
            "Restoring model weights from the end of the best epoch: 5.\n"
          ]
        }
      ],
      "source": [
        "# Compile model\n",
        "classification_model.compile(\n",
        "    optimizer=optimizer,  # Pass the optimizer instance directly\n",
        "    loss=tf.keras.losses.CategoricalCrossentropy(from_logits=True),\n",
        "    metrics=[tf.keras.metrics.Recall(name='recall', class_id=2), # Focus on 2\n",
        "             tf.keras.metrics.Precision(name='precision', class_id=3), # Focus on 3\n",
        "             tf.keras.metrics.Accuracy(name='accuracy'),\n",
        "             tf.keras.metrics.F1Score(name=\"f1_score\", average='weighted'), # Use weighted average for f1_score\n",
        "             tf.keras.metrics.AUC(name='AUC', curve='PR'),\n",
        "             tf.keras.metrics.RecallAtPrecision(precision=0.6, name='recall_at_precision', class_id=3), # Focus on 3\n",
        "             tf.keras.metrics.PrecisionAtRecall(recall=0.6, class_id=2)]) # Focus on 2\n",
        "\n",
        "\n",
        "\n",
        "# Train model\n",
        "history = classification_model.fit(\n",
        "    train_dataset.batch(batch_size),\n",
        "    validation_data=val_dataset.batch(batch_size),\n",
        "    batch_size=batch_size,\n",
        "    class_weight=class_weight,\n",
        "    callbacks=callback,\n",
        "    epochs=epochs)"
      ]
    },
    {
      "cell_type": "code",
      "execution_count": 17,
      "metadata": {
        "id": "SMed-pNBoQ4j"
      },
      "outputs": [],
      "source": [
        "# Early Stopping callback\n",
        "callback = tf.keras.callbacks.EarlyStopping(\n",
        "    monitor='val_loss',\n",
        "    mode='min',\n",
        "    restore_best_weights=True,\n",
        "    patience=2,\n",
        "    verbose=1)"
      ]
    },
    {
      "cell_type": "code",
      "execution_count": null,
      "metadata": {
        "colab": {
          "base_uri": "https://localhost:8080/"
        },
        "id": "Sy-hYsJORdYW",
        "outputId": "82a730de-a2a2-4007-d4fa-47e043bf3a3a"
      },
      "outputs": [
        {
          "name": "stdout",
          "output_type": "stream",
          "text": [
            "Epoch 1/5\n",
            "2206/2206 [==============================] - 748s 331ms/step - loss: 0.8525 - recall: 0.8775 - precision: 0.3656 - accuracy: 0.0000e+00 - f1_score: 0.6520 - AUC: 0.4732 - recall_at_precision: 0.0000e+00 - precision_at_recall_1: 0.2496 - val_loss: 0.8256 - val_recall: 0.8671 - val_precision: 0.3453 - val_accuracy: 0.0000e+00 - val_f1_score: 0.6691 - val_AUC: 0.4972 - val_recall_at_precision: 0.0000e+00 - val_precision_at_recall_1: 0.2656\n",
            "Epoch 2/5\n",
            "2206/2206 [==============================] - 728s 330ms/step - loss: 0.7711 - recall: 0.9010 - precision: 0.3603 - accuracy: 0.0000e+00 - f1_score: 0.6857 - AUC: 0.4941 - recall_at_precision: 0.0000e+00 - precision_at_recall_1: 0.2894 - val_loss: 0.7944 - val_recall: 0.8550 - val_precision: 0.3458 - val_accuracy: 0.0000e+00 - val_f1_score: 0.6730 - val_AUC: 0.4920 - val_recall_at_precision: 0.0000e+00 - val_precision_at_recall_1: 0.0000e+00\n",
            "Epoch 3/5\n",
            "2206/2206 [==============================] - 728s 330ms/step - loss: 0.7034 - recall: 0.9261 - precision: 0.3696 - accuracy: 0.0000e+00 - f1_score: 0.7112 - AUC: 0.4979 - recall_at_precision: 0.0000e+00 - precision_at_recall_1: 0.3329 - val_loss: 0.7769 - val_recall: 0.8961 - val_precision: 0.3472 - val_accuracy: 0.0000e+00 - val_f1_score: 0.6787 - val_AUC: 0.4801 - val_recall_at_precision: 0.0000e+00 - val_precision_at_recall_1: 0.2819\n",
            "Epoch 4/5\n",
            "2206/2206 [==============================] - 728s 330ms/step - loss: 0.6456 - recall: 0.9409 - precision: 0.3896 - accuracy: 0.0000e+00 - f1_score: 0.7339 - AUC: 0.5073 - recall_at_precision: 0.0000e+00 - precision_at_recall_1: 0.3545 - val_loss: 0.7811 - val_recall: 0.8825 - val_precision: 0.3616 - val_accuracy: 0.0000e+00 - val_f1_score: 0.6860 - val_AUC: 0.4911 - val_recall_at_precision: 0.0000e+00 - val_precision_at_recall_1: 0.2810\n",
            "Epoch 5/5\n",
            "2206/2206 [==============================] - 726s 329ms/step - loss: 0.5891 - recall: 0.9515 - precision: 0.4092 - accuracy: 0.0000e+00 - f1_score: 0.7553 - AUC: 0.5292 - recall_at_precision: 0.0000e+00 - precision_at_recall_1: 0.3794 - val_loss: 0.8023 - val_recall: 0.8617 - val_precision: 0.3533 - val_accuracy: 0.0000e+00 - val_f1_score: 0.6817 - val_AUC: 0.4740 - val_recall_at_precision: 0.0000e+00 - val_precision_at_recall_1: 0.0000e+00\n",
            "Epoch 5: early stopping\n",
            "Restoring model weights from the end of the best epoch: 3.\n"
          ]
        }
      ],
      "source": [
        "# Compile model\n",
        "classification_model.compile(\n",
        "    optimizer=optimizer,  # Pass the optimizer instance directly\n",
        "    loss=tf.keras.losses.CategoricalCrossentropy(from_logits=True),\n",
        "    metrics=[tf.keras.metrics.Recall(name='recall', class_id=2), # Focus on 2\n",
        "             tf.keras.metrics.Precision(name='precision', class_id=3), # Focus on 3\n",
        "             tf.keras.metrics.Accuracy(name='accuracy'),\n",
        "             tf.keras.metrics.F1Score(name=\"f1_score\", average='weighted'), # Use weighted average for f1_score\n",
        "             tf.keras.metrics.AUC(name='AUC', curve='PR'),\n",
        "             tf.keras.metrics.RecallAtPrecision(precision=0.9, name='recall_at_precision', class_id=3), # Focus on 3\n",
        "             tf.keras.metrics.PrecisionAtRecall(recall=0.9, class_id=2)]) # Focus on 2\n",
        "\n",
        "\n",
        "\n",
        "# Train model\n",
        "history = classification_model.fit(\n",
        "    train_dataset.batch(batch_size),\n",
        "    validation_data=val_dataset.batch(batch_size),\n",
        "    batch_size=batch_size,\n",
        "    class_weight=class_weight,\n",
        "    callbacks=callback,\n",
        "    epochs=epochs)"
      ]
    },
    {
      "cell_type": "markdown",
      "metadata": {
        "id": "wb0AC-Kve6rn"
      },
      "source": [
        "# Results"
      ]
    },
    {
      "cell_type": "code",
      "execution_count": 46,
      "metadata": {
        "colab": {
          "base_uri": "https://localhost:8080/"
        },
        "id": "HXLDXoTxe8eb",
        "outputId": "f3190b5d-6722-45ec-daea-f372fe43bea8"
      },
      "outputs": [
        {
          "name": "stdout",
          "output_type": "stream",
          "text": [
            "276/276 [==============================] - 30s 110ms/step\n"
          ]
        }
      ],
      "source": [
        "# make predictions\n",
        "predictions = classification_model.predict(test_dataset.batch(batch_size))"
      ]
    },
    {
      "cell_type": "code",
      "execution_count": 83,
      "metadata": {
        "colab": {
          "base_uri": "https://localhost:8080/"
        },
        "id": "cSpjFrAWNxuw",
        "outputId": "d6003a1f-7d31-4ddd-a3e8-dfd01de9a3f6"
      },
      "outputs": [
        {
          "data": {
            "text/plain": [
              "array([[8480,  294,  494, 1296],\n",
              "       [ 347, 7357, 1494, 1615],\n",
              "       [ 175,  671, 2805,  244],\n",
              "       [1929, 2188,  661, 5245]])"
            ]
          },
          "execution_count": 83,
          "metadata": {},
          "output_type": "execute_result"
        }
      ],
      "source": [
        "# Get true labels from test_df\n",
        "y_true = test_df['label']\n",
        "\n",
        "# Get predictions from your model\n",
        "y_pred = tf.argmax(predictions, axis=1)  # predictions contains probabilities/logits\n",
        "\n",
        "# calculate confusion matrix\n",
        "cm = confusion_matrix(y_true, y_pred)\n",
        "cm"
      ]
    },
    {
      "cell_type": "code",
      "execution_count": 84,
      "metadata": {
        "colab": {
          "base_uri": "https://localhost:8080/",
          "height": 404
        },
        "id": "RwLjk3yWe8ed",
        "outputId": "c3a060b0-438f-40e4-d69e-53c13d9fe9a3"
      },
      "outputs": [
        {
          "data": {
            "image/png": "[encoded data removed]",
            "text/plain": [
              "<Figure size 400x400 with 2 Axes>"
            ]
          },
          "metadata": {},
          "output_type": "display_data"
        }
      ],
      "source": [
        "# plot confusion matrix\n",
        "plt.figure(figsize=(4,4))\n",
        "sns.heatmap(cm, annot=True, fmt=\"d\", cmap=\"Blues\")\n",
        "plt.xlabel(\"\\nPredicted Label\")\n",
        "plt.ylabel(\"True Label\\n\")\n",
        "plt.show()"
      ]
    },
    {
      "cell_type": "code",
      "execution_count": 49,
      "metadata": {
        "colab": {
          "base_uri": "https://localhost:8080/"
        },
        "id": "GgTcbiN8bTjx",
        "outputId": "20858c0c-01a1-408a-d786-be4e2e06a1b9"
      },
      "outputs": [
        {
          "name": "stdout",
          "output_type": "stream",
          "text": [
            "Aggregate Metrics:\n",
            "Recall (Macro): 0.6816\n",
            "Precision (Macro): 0.6536\n",
            "F1 (Macro): 0.6621\n",
            "AUC (OvR): 0.8400\n",
            "Accuracy: 0.6768\n",
            "\n",
            "Per-Class Metrics:\n",
            "Class 0: Recall=0.8027, Precision=0.7758, F1=0.7890\n",
            "Class 1: Recall=0.6804, Precision=0.7000, F1=0.6901\n",
            "Class 2: Recall=0.7202, Precision=0.5143, F1=0.6001\n",
            "Class 3: Recall=0.5233, Precision=0.6244, F1=0.5694\n",
            "              precision    recall  f1-score   support\n",
            "\n",
            "           0       0.78      0.80      0.79     10564\n",
            "           1       0.70      0.68      0.69     10813\n",
            "           2       0.51      0.72      0.60      3895\n",
            "           3       0.62      0.52      0.57     10023\n",
            "\n",
            "    accuracy                           0.68     35295\n",
            "   macro avg       0.65      0.68      0.66     35295\n",
            "weighted avg       0.68      0.68      0.68     35295\n",
            "\n"
          ]
        }
      ],
      "source": [
        "# Get true labels from test_ds and convert to one-hot encoding\n",
        "y_true_one_hot = tf.keras.utils.to_categorical(y_true, num_classes=num_labels)\n",
        "\n",
        "# For other metrics, get predicted class labels\n",
        "y_pred = tf.argmax(predictions, axis=1)  # predictions contains probabilities/logits\n",
        "\n",
        "# Calculate metrics\n",
        "metrics = {\n",
        "    \"Recall (Macro)\": recall_score(y_true, y_pred, average='macro'),\n",
        "    \"Precision (Macro)\": precision_score(y_true, y_pred, average='macro'),\n",
        "    \"F1 (Macro)\": f1_score(y_true, y_pred, average='macro'),\n",
        "    \"AUC (OvR)\": roc_auc_score(y_true_one_hot, predictions, multi_class='ovr'),  # Use one-hot encoded y_true and y_score\n",
        "    \"Accuracy\": accuracy_score(y_true, y_pred)\n",
        "}\n",
        "\n",
        "# For per-class metrics\n",
        "per_class_metrics = {\n",
        "    \"Recall (Per Class)\": recall_score(y_true, y_pred, average=None),\n",
        "    \"Precision (Per Class)\": precision_score(y_true, y_pred, average=None),\n",
        "    \"F1 (Per Class)\": f1_score(y_true, y_pred, average=None)\n",
        "}\n",
        "\n",
        "# Print results\n",
        "print(\"Aggregate Metrics:\")\n",
        "for k, v in metrics.items():\n",
        "    print(f\"{k}: {v:.4f}\")\n",
        "\n",
        "print(\"\\nPer-Class Metrics:\")\n",
        "for i, (rec, prec, f1) in enumerate(zip(per_class_metrics[\"Recall (Per Class)\"],\n",
        "                                      per_class_metrics[\"Precision (Per Class)\"],\n",
        "                                      per_class_metrics[\"F1 (Per Class)\"])):\n",
        "    print(f\"Class {i}: Recall={rec:.4f}, Precision={prec:.4f}, F1={f1:.4f}\")\n",
        "\n",
        "print(classification_report(y_true, y_pred))"
      ]
    },
    {
      "cell_type": "code",
      "execution_count": null,
      "metadata": {
        "colab": {
          "base_uri": "https://localhost:8080/"
        },
        "id": "CyW_2_6e7t7d",
        "outputId": "bf998f70-7cdb-452c-b962-7d87742f88f1"
      },
      "outputs": [
        {
          "data": {
            "text/plain": [
              "{'loss': [0.6880964636802673, 0.6134354472160339, 1.0438705682754517],\n",
              " 'recall': [0.9306592345237732, 0.9501563310623169, 0.41582104563713074],\n",
              " 'precision': [0.4289064407348633, 0.43449872732162476, 0.4329632818698883],\n",
              " 'accuracy': [0.0, 0.0, 0.0],\n",
              " 'f1_score': [0.7050412893295288, 0.7364709377288818, 0.46913883090019226],\n",
              " 'AUC': [0.5174041986465454, 0.5269464254379272, 0.41966715455055237],\n",
              " 'recall_at_precision': [0.0, 0.0, 0.0],\n",
              " 'precision_at_recall_9': [0.3011830747127533, 0.3277442157268524, 0.0],\n",
              " 'val_loss': [0.7198023200035095, 0.7263728976249695, 1.375443458557129],\n",
              " 'val_recall': [0.8940210342407227, 0.8922247886657715, 0.0],\n",
              " 'val_precision': [0.4093421697616577, 0.4048369526863098, 0.0],\n",
              " 'val_accuracy': [0.0, 0.0, 0.0],\n",
              " 'val_f1_score': [0.7011986970901489, 0.7016660571098328, 0.12131873518228531],\n",
              " 'val_AUC': [0.5028730034828186, 0.4955997169017792, 0.2860652804374695],\n",
              " 'val_recall_at_precision': [0.0, 0.0, 0.0],\n",
              " 'val_precision_at_recall_9': [0.27335047721862793, 0.2706807553768158, 0.0]}"
            ]
          },
          "execution_count": 86,
          "metadata": {},
          "output_type": "execute_result"
        }
      ],
      "source": [
        "history.history"
      ]
    },
    {
      "cell_type": "markdown",
      "metadata": {
        "id": "qEzHRcZ8mFJ9"
      },
      "source": [
        "# Save the model"
      ]
    },
    {
      "cell_type": "code",
      "execution_count": 85,
      "metadata": {
        "colab": {
          "base_uri": "https://localhost:8080/"
        },
        "id": "Y2UtiOjIBHJc",
        "outputId": "62ab11aa-261f-4774-c872-ca1277af748d"
      },
      "outputs": [
        {
          "name": "stdout",
          "output_type": "stream",
          "text": [
            "Model: \"model\"\n",
            "__________________________________________________________________________________________________\n",
            " Layer (type)                Output Shape                 Param #   Connected to                  \n",
            "==================================================================================================\n",
            " input_ids (InputLayer)      [(None, 128)]                0         []                            \n",
            "                                                                                                  \n",
            " attention_mask (InputLayer  [(None, 128)]                0         []                            \n",
            " )                                                                                                \n",
            "                                                                                                  \n",
            " tf_roberta_for_sequence_cl  TFSequenceClassifierOutput   1087902   ['input_ids[0][0]',           \n",
            " assification (TFRobertaFor  (loss=None, logits=(None,    76         'attention_mask[0][0]']      \n",
            " SequenceClassification)     4),                                                                  \n",
            "                              hidden_states=None, atten                                           \n",
            "                             tions=((None, 12, None, 12                                           \n",
            "                             8),                                                                  \n",
            "                              (None, 12, None, 128),                                              \n",
            "                              (None, 12, None, 128),                                              \n",
            "                              (None, 12, None, 128),                                              \n",
            "                              (None, 12, None, 128),                                              \n",
            "                              (None, 12, None, 128),                                              \n",
            "                              (None, 12, None, 128),                                              \n",
            "                              (None, 12, None, 128),                                              \n",
            "                              (None, 12, None, 128),                                              \n",
            "                              (None, 12, None, 128),                                              \n",
            "                              (None, 12, None, 128),                                              \n",
            "                              (None, 12, None, 128)))                                             \n",
            "                                                                                                  \n",
            " tf.__operators__.getitem (  (None, 4)                    0         ['tf_roberta_for_sequence_clas\n",
            " SlicingOpLambda)                                                   sification[0][12]']           \n",
            "                                                                                                  \n",
            " dense (Dense)               (None, 4)                    20        ['tf.__operators__.getitem[0][\n",
            "                                                                    0]']                          \n",
            "                                                                                                  \n",
            "==================================================================================================\n",
            "Total params: 108790296 (415.00 MB)\n",
            "Trainable params: 108790296 (415.00 MB)\n",
            "Non-trainable params: 0 (0.00 Byte)\n",
            "__________________________________________________________________________________________________\n"
          ]
        }
      ],
      "source": [
        "# Print the model summary\n",
        "classification_model.summary()"
      ]
    },
    {
      "cell_type": "code",
      "execution_count": null,
      "metadata": {
        "id": "Hh4ow7ioyOqa"
      },
      "outputs": [],
      "source": [
        "# save model history (models metrics while training) to csv file\n",
        "history_df = pd.DataFrame(history.history)\n",
        "history_df.to_csv('***.csv')"
      ]
    },
    {
      "cell_type": "code",
      "execution_count": null,
      "metadata": {
        "colab": {
          "base_uri": "https://localhost:8080/"
        },
        "id": "iBAF8LjND9A9",
        "outputId": "48c208ff-f12d-492f-955b-c39c048971fb"
      },
      "outputs": [
        {
          "data": {
            "text/plain": [
              "('/content/drive/MyDrive/HateMedia/Modelos/Intensidades/Intensidades-trained-robertuito_base_odio_bin_tokenizer/tokenizer_config.json',\n",
              " '/content/drive/MyDrive/HateMedia/Modelos/Intensidades/Intensidades-trained-robertuito_base_odio_bin_tokenizer/special_tokens_map.json',\n",
              " '/content/drive/MyDrive/HateMedia/Modelos/Intensidades/Intensidades-trained-robertuito_base_odio_bin_tokenizer/tokenizer.json')"
            ]
          },
          "execution_count": 90,
          "metadata": {},
          "output_type": "execute_result"
        }
      ],
      "source": [
        "# save model weights\n",
        "classification_model.save_weights(\"***/Intensidades-trained-robertuito_base_odio_bin.h5\")\n",
        "\n",
        "# save tokenizer\n",
        "tokenizer.save_pretrained(\"***/Intensidades-trained-robertuito_base_odio_bin_tokenizer\")"
      ]
    },
    {
      "cell_type": "markdown",
      "metadata": {
        "id": "SRllKd7soSGC"
      },
      "source": [
        "# requirements"
      ]
    },
    {
      "cell_type": "code",
      "execution_count": 88,
      "metadata": {
        "id": "i5mgqkWyoVHZ"
      },
      "outputs": [],
      "source": [
        "# save requirements as a txt file\n",
        "!pip freeze > requirements.txt"
      ]
    }
  ],
  "metadata": {
    "accelerator": "GPU",
    "colab": {
      "gpuType": "A100",
      "machine_shape": "hm",
      "provenance": []
    },
    "kernelspec": {
      "display_name": "Python 3",
      "name": "python3"
    },
    "language_info": {
      "name": "python"
    },
    "widgets": {
      "application/vnd.jupyter.widget-state+json": {
        "020c3d856865409cb4346ebc2c0d9349": {
          "model_module": "@jupyter-widgets/controls",
          "model_module_version": "1.5.0",
          "model_name": "HBoxModel",
          "state": {
            "_dom_classes": [],
            "_model_module": "@jupyter-widgets/controls",
            "_model_module_version": "1.5.0",
            "_model_name": "HBoxModel",
            "_view_count": null,
            "_view_module": "@jupyter-widgets/controls",
            "_view_module_version": "1.5.0",
            "_view_name": "HBoxView",
            "box_style": "",
            "children": [
              "IPY_MODEL_d24df3ee54c74a419025bd9f816d0ca3",
              "IPY_MODEL_b22c9c91d6e243e8a13a223201e1e073",
              "IPY_MODEL_93b311ae5dcd4c1a90c28bdeb771d07b"
            ],
            "layout": "IPY_MODEL_ff5e6a00e2224e7b8e1a12d9e9fd4543"
          }
        },
        "03b714686c394574b6741069db19881f": {
          "model_module": "@jupyter-widgets/base",
          "model_module_version": "1.2.0",
          "model_name": "LayoutModel",
          "state": {
            "_model_module": "@jupyter-widgets/base",
            "_model_module_version": "1.2.0",
            "_model_name": "LayoutModel",
            "_view_count": null,
            "_view_module": "@jupyter-widgets/base",
            "_view_module_version": "1.2.0",
            "_view_name": "LayoutView",
            "align_content": null,
            "align_items": null,
            "align_self": null,
            "border": null,
            "bottom": null,
            "display": null,
            "flex": null,
            "flex_flow": null,
            "grid_area": null,
            "grid_auto_columns": null,
            "grid_auto_flow": null,
            "grid_auto_rows": null,
            "grid_column": null,
            "grid_gap": null,
            "grid_row": null,
            "grid_template_areas": null,
            "grid_template_columns": null,
            "grid_template_rows": null,
            "height": null,
            "justify_content": null,
            "justify_items": null,
            "left": null,
            "margin": null,
            "max_height": null,
            "max_width": null,
            "min_height": null,
            "min_width": null,
            "object_fit": null,
            "object_position": null,
            "order": null,
            "overflow": null,
            "overflow_x": null,
            "overflow_y": null,
            "padding": null,
            "right": null,
            "top": null,
            "visibility": null,
            "width": null
          }
        },
        "23012748f9d54b74a68521f78c574f6b": {
          "model_module": "@jupyter-widgets/controls",
          "model_module_version": "1.5.0",
          "model_name": "ProgressStyleModel",
          "state": {
            "_model_module": "@jupyter-widgets/controls",
            "_model_module_version": "1.5.0",
            "_model_name": "ProgressStyleModel",
            "_view_count": null,
            "_view_module": "@jupyter-widgets/base",
            "_view_module_version": "1.2.0",
            "_view_name": "StyleView",
            "bar_color": null,
            "description_width": ""
          }
        },
        "2552bd6c418243978260d3020b875dcf": {
          "model_module": "@jupyter-widgets/base",
          "model_module_version": "1.2.0",
          "model_name": "LayoutModel",
          "state": {
            "_model_module": "@jupyter-widgets/base",
            "_model_module_version": "1.2.0",
            "_model_name": "LayoutModel",
            "_view_count": null,
            "_view_module": "@jupyter-widgets/base",
            "_view_module_version": "1.2.0",
            "_view_name": "LayoutView",
            "align_content": null,
            "align_items": null,
            "align_self": null,
            "border": null,
            "bottom": null,
            "display": null,
            "flex": null,
            "flex_flow": null,
            "grid_area": null,
            "grid_auto_columns": null,
            "grid_auto_flow": null,
            "grid_auto_rows": null,
            "grid_column": null,
            "grid_gap": null,
            "grid_row": null,
            "grid_template_areas": null,
            "grid_template_columns": null,
            "grid_template_rows": null,
            "height": null,
            "justify_content": null,
            "justify_items": null,
            "left": null,
            "margin": null,
            "max_height": null,
            "max_width": null,
            "min_height": null,
            "min_width": null,
            "object_fit": null,
            "object_position": null,
            "order": null,
            "overflow": null,
            "overflow_x": null,
            "overflow_y": null,
            "padding": null,
            "right": null,
            "top": null,
            "visibility": null,
            "width": null
          }
        },
        "2d014c333c4a49feba47b86831446bf4": {
          "model_module": "@jupyter-widgets/controls",
          "model_module_version": "1.5.0",
          "model_name": "HBoxModel",
          "state": {
            "_dom_classes": [],
            "_model_module": "@jupyter-widgets/controls",
            "_model_module_version": "1.5.0",
            "_model_name": "HBoxModel",
            "_view_count": null,
            "_view_module": "@jupyter-widgets/controls",
            "_view_module_version": "1.5.0",
            "_view_name": "HBoxView",
            "box_style": "",
            "children": [
              "IPY_MODEL_e835081034b047edb1fd4a4651cf4b69",
              "IPY_MODEL_bbde1423765b4c7aa2da7c2a30263b37",
              "IPY_MODEL_7bedb2568b5f40d998beab83aead4e52"
            ],
            "layout": "IPY_MODEL_2552bd6c418243978260d3020b875dcf"
          }
        },
        "53332d1e2b094064895789be35250ba3": {
          "model_module": "@jupyter-widgets/base",
          "model_module_version": "1.2.0",
          "model_name": "LayoutModel",
          "state": {
            "_model_module": "@jupyter-widgets/base",
            "_model_module_version": "1.2.0",
            "_model_name": "LayoutModel",
            "_view_count": null,
            "_view_module": "@jupyter-widgets/base",
            "_view_module_version": "1.2.0",
            "_view_name": "LayoutView",
            "align_content": null,
            "align_items": null,
            "align_self": null,
            "border": null,
            "bottom": null,
            "display": null,
            "flex": null,
            "flex_flow": null,
            "grid_area": null,
            "grid_auto_columns": null,
            "grid_auto_flow": null,
            "grid_auto_rows": null,
            "grid_column": null,
            "grid_gap": null,
            "grid_row": null,
            "grid_template_areas": null,
            "grid_template_columns": null,
            "grid_template_rows": null,
            "height": null,
            "justify_content": null,
            "justify_items": null,
            "left": null,
            "margin": null,
            "max_height": null,
            "max_width": null,
            "min_height": null,
            "min_width": null,
            "object_fit": null,
            "object_position": null,
            "order": null,
            "overflow": null,
            "overflow_x": null,
            "overflow_y": null,
            "padding": null,
            "right": null,
            "top": null,
            "visibility": null,
            "width": null
          }
        },
        "53d91b0dd6fe47ccaa7e31f595b27b7a": {
          "model_module": "@jupyter-widgets/base",
          "model_module_version": "1.2.0",
          "model_name": "LayoutModel",
          "state": {
            "_model_module": "@jupyter-widgets/base",
            "_model_module_version": "1.2.0",
            "_model_name": "LayoutModel",
            "_view_count": null,
            "_view_module": "@jupyter-widgets/base",
            "_view_module_version": "1.2.0",
            "_view_name": "LayoutView",
            "align_content": null,
            "align_items": null,
            "align_self": null,
            "border": null,
            "bottom": null,
            "display": null,
            "flex": null,
            "flex_flow": null,
            "grid_area": null,
            "grid_auto_columns": null,
            "grid_auto_flow": null,
            "grid_auto_rows": null,
            "grid_column": null,
            "grid_gap": null,
            "grid_row": null,
            "grid_template_areas": null,
            "grid_template_columns": null,
            "grid_template_rows": null,
            "height": null,
            "justify_content": null,
            "justify_items": null,
            "left": null,
            "margin": null,
            "max_height": null,
            "max_width": null,
            "min_height": null,
            "min_width": null,
            "object_fit": null,
            "object_position": null,
            "order": null,
            "overflow": null,
            "overflow_x": null,
            "overflow_y": null,
            "padding": null,
            "right": null,
            "top": null,
            "visibility": null,
            "width": null
          }
        },
        "63d5bf680b004f499977f53a8475fbca": {
          "model_module": "@jupyter-widgets/controls",
          "model_module_version": "1.5.0",
          "model_name": "DescriptionStyleModel",
          "state": {
            "_model_module": "@jupyter-widgets/controls",
            "_model_module_version": "1.5.0",
            "_model_name": "DescriptionStyleModel",
            "_view_count": null,
            "_view_module": "@jupyter-widgets/base",
            "_view_module_version": "1.2.0",
            "_view_name": "StyleView",
            "description_width": ""
          }
        },
        "696b9933d1ee4579850a57b5bbac4fde": {
          "model_module": "@jupyter-widgets/base",
          "model_module_version": "1.2.0",
          "model_name": "LayoutModel",
          "state": {
            "_model_module": "@jupyter-widgets/base",
            "_model_module_version": "1.2.0",
            "_model_name": "LayoutModel",
            "_view_count": null,
            "_view_module": "@jupyter-widgets/base",
            "_view_module_version": "1.2.0",
            "_view_name": "LayoutView",
            "align_content": null,
            "align_items": null,
            "align_self": null,
            "border": null,
            "bottom": null,
            "display": null,
            "flex": null,
            "flex_flow": null,
            "grid_area": null,
            "grid_auto_columns": null,
            "grid_auto_flow": null,
            "grid_auto_rows": null,
            "grid_column": null,
            "grid_gap": null,
            "grid_row": null,
            "grid_template_areas": null,
            "grid_template_columns": null,
            "grid_template_rows": null,
            "height": null,
            "justify_content": null,
            "justify_items": null,
            "left": null,
            "margin": null,
            "max_height": null,
            "max_width": null,
            "min_height": null,
            "min_width": null,
            "object_fit": null,
            "object_position": null,
            "order": null,
            "overflow": null,
            "overflow_x": null,
            "overflow_y": null,
            "padding": null,
            "right": null,
            "top": null,
            "visibility": null,
            "width": null
          }
        },
        "772ad18522bc46658fb601c8544719ca": {
          "model_module": "@jupyter-widgets/base",
          "model_module_version": "1.2.0",
          "model_name": "LayoutModel",
          "state": {
            "_model_module": "@jupyter-widgets/base",
            "_model_module_version": "1.2.0",
            "_model_name": "LayoutModel",
            "_view_count": null,
            "_view_module": "@jupyter-widgets/base",
            "_view_module_version": "1.2.0",
            "_view_name": "LayoutView",
            "align_content": null,
            "align_items": null,
            "align_self": null,
            "border": null,
            "bottom": null,
            "display": null,
            "flex": null,
            "flex_flow": null,
            "grid_area": null,
            "grid_auto_columns": null,
            "grid_auto_flow": null,
            "grid_auto_rows": null,
            "grid_column": null,
            "grid_gap": null,
            "grid_row": null,
            "grid_template_areas": null,
            "grid_template_columns": null,
            "grid_template_rows": null,
            "height": null,
            "justify_content": null,
            "justify_items": null,
            "left": null,
            "margin": null,
            "max_height": null,
            "max_width": null,
            "min_height": null,
            "min_width": null,
            "object_fit": null,
            "object_position": null,
            "order": null,
            "overflow": null,
            "overflow_x": null,
            "overflow_y": null,
            "padding": null,
            "right": null,
            "top": null,
            "visibility": null,
            "width": null
          }
        },
        "7bedb2568b5f40d998beab83aead4e52": {
          "model_module": "@jupyter-widgets/controls",
          "model_module_version": "1.5.0",
          "model_name": "HTMLModel",
          "state": {
            "_dom_classes": [],
            "_model_module": "@jupyter-widgets/controls",
            "_model_module_version": "1.5.0",
            "_model_name": "HTMLModel",
            "_view_count": null,
            "_view_module": "@jupyter-widgets/controls",
            "_view_module_version": "1.5.0",
            "_view_name": "HTMLView",
            "description": "",
            "description_tooltip": null,
            "layout": "IPY_MODEL_53332d1e2b094064895789be35250ba3",
            "placeholder": "​",
            "style": "IPY_MODEL_7e9f0161bf5440c485471cce52595c22",
            "value": " 435M/435M [00:01&lt;00:00, 378MB/s]"
          }
        },
        "7e75a7328b8c45bfa8f00290977f9b59": {
          "model_module": "@jupyter-widgets/base",
          "model_module_version": "1.2.0",
          "model_name": "LayoutModel",
          "state": {
            "_model_module": "@jupyter-widgets/base",
            "_model_module_version": "1.2.0",
            "_model_name": "LayoutModel",
            "_view_count": null,
            "_view_module": "@jupyter-widgets/base",
            "_view_module_version": "1.2.0",
            "_view_name": "LayoutView",
            "align_content": null,
            "align_items": null,
            "align_self": null,
            "border": null,
            "bottom": null,
            "display": null,
            "flex": null,
            "flex_flow": null,
            "grid_area": null,
            "grid_auto_columns": null,
            "grid_auto_flow": null,
            "grid_auto_rows": null,
            "grid_column": null,
            "grid_gap": null,
            "grid_row": null,
            "grid_template_areas": null,
            "grid_template_columns": null,
            "grid_template_rows": null,
            "height": null,
            "justify_content": null,
            "justify_items": null,
            "left": null,
            "margin": null,
            "max_height": null,
            "max_width": null,
            "min_height": null,
            "min_width": null,
            "object_fit": null,
            "object_position": null,
            "order": null,
            "overflow": null,
            "overflow_x": null,
            "overflow_y": null,
            "padding": null,
            "right": null,
            "top": null,
            "visibility": null,
            "width": null
          }
        },
        "7e9f0161bf5440c485471cce52595c22": {
          "model_module": "@jupyter-widgets/controls",
          "model_module_version": "1.5.0",
          "model_name": "DescriptionStyleModel",
          "state": {
            "_model_module": "@jupyter-widgets/controls",
            "_model_module_version": "1.5.0",
            "_model_name": "DescriptionStyleModel",
            "_view_count": null,
            "_view_module": "@jupyter-widgets/base",
            "_view_module_version": "1.2.0",
            "_view_name": "StyleView",
            "description_width": ""
          }
        },
        "8ac9a131ae9e41eab61646d38050a931": {
          "model_module": "@jupyter-widgets/controls",
          "model_module_version": "1.5.0",
          "model_name": "ProgressStyleModel",
          "state": {
            "_model_module": "@jupyter-widgets/controls",
            "_model_module_version": "1.5.0",
            "_model_name": "ProgressStyleModel",
            "_view_count": null,
            "_view_module": "@jupyter-widgets/base",
            "_view_module_version": "1.2.0",
            "_view_name": "StyleView",
            "bar_color": null,
            "description_width": ""
          }
        },
        "93b311ae5dcd4c1a90c28bdeb771d07b": {
          "model_module": "@jupyter-widgets/controls",
          "model_module_version": "1.5.0",
          "model_name": "HTMLModel",
          "state": {
            "_dom_classes": [],
            "_model_module": "@jupyter-widgets/controls",
            "_model_module_version": "1.5.0",
            "_model_name": "HTMLModel",
            "_view_count": null,
            "_view_module": "@jupyter-widgets/controls",
            "_view_module_version": "1.5.0",
            "_view_name": "HTMLView",
            "description": "",
            "description_tooltip": null,
            "layout": "IPY_MODEL_53d91b0dd6fe47ccaa7e31f595b27b7a",
            "placeholder": "​",
            "style": "IPY_MODEL_c691926c01f74701b53a1da9f271439f",
            "value": " 677/677 [00:00&lt;00:00, 77.8kB/s]"
          }
        },
        "99d59f6d8fb44fada0469dfea3d54fce": {
          "model_module": "@jupyter-widgets/controls",
          "model_module_version": "1.5.0",
          "model_name": "DescriptionStyleModel",
          "state": {
            "_model_module": "@jupyter-widgets/controls",
            "_model_module_version": "1.5.0",
            "_model_name": "DescriptionStyleModel",
            "_view_count": null,
            "_view_module": "@jupyter-widgets/base",
            "_view_module_version": "1.2.0",
            "_view_name": "StyleView",
            "description_width": ""
          }
        },
        "b22c9c91d6e243e8a13a223201e1e073": {
          "model_module": "@jupyter-widgets/controls",
          "model_module_version": "1.5.0",
          "model_name": "FloatProgressModel",
          "state": {
            "_dom_classes": [],
            "_model_module": "@jupyter-widgets/controls",
            "_model_module_version": "1.5.0",
            "_model_name": "FloatProgressModel",
            "_view_count": null,
            "_view_module": "@jupyter-widgets/controls",
            "_view_module_version": "1.5.0",
            "_view_name": "ProgressView",
            "bar_style": "success",
            "description": "",
            "description_tooltip": null,
            "layout": "IPY_MODEL_03b714686c394574b6741069db19881f",
            "max": 677,
            "min": 0,
            "orientation": "horizontal",
            "style": "IPY_MODEL_23012748f9d54b74a68521f78c574f6b",
            "value": 677
          }
        },
        "bbde1423765b4c7aa2da7c2a30263b37": {
          "model_module": "@jupyter-widgets/controls",
          "model_module_version": "1.5.0",
          "model_name": "FloatProgressModel",
          "state": {
            "_dom_classes": [],
            "_model_module": "@jupyter-widgets/controls",
            "_model_module_version": "1.5.0",
            "_model_name": "FloatProgressModel",
            "_view_count": null,
            "_view_module": "@jupyter-widgets/controls",
            "_view_module_version": "1.5.0",
            "_view_name": "ProgressView",
            "bar_style": "success",
            "description": "",
            "description_tooltip": null,
            "layout": "IPY_MODEL_772ad18522bc46658fb601c8544719ca",
            "max": 435300276,
            "min": 0,
            "orientation": "horizontal",
            "style": "IPY_MODEL_8ac9a131ae9e41eab61646d38050a931",
            "value": 435300276
          }
        },
        "c691926c01f74701b53a1da9f271439f": {
          "model_module": "@jupyter-widgets/controls",
          "model_module_version": "1.5.0",
          "model_name": "DescriptionStyleModel",
          "state": {
            "_model_module": "@jupyter-widgets/controls",
            "_model_module_version": "1.5.0",
            "_model_name": "DescriptionStyleModel",
            "_view_count": null,
            "_view_module": "@jupyter-widgets/base",
            "_view_module_version": "1.2.0",
            "_view_name": "StyleView",
            "description_width": ""
          }
        },
        "d24df3ee54c74a419025bd9f816d0ca3": {
          "model_module": "@jupyter-widgets/controls",
          "model_module_version": "1.5.0",
          "model_name": "HTMLModel",
          "state": {
            "_dom_classes": [],
            "_model_module": "@jupyter-widgets/controls",
            "_model_module_version": "1.5.0",
            "_model_name": "HTMLModel",
            "_view_count": null,
            "_view_module": "@jupyter-widgets/controls",
            "_view_module_version": "1.5.0",
            "_view_name": "HTMLView",
            "description": "",
            "description_tooltip": null,
            "layout": "IPY_MODEL_7e75a7328b8c45bfa8f00290977f9b59",
            "placeholder": "​",
            "style": "IPY_MODEL_99d59f6d8fb44fada0469dfea3d54fce",
            "value": "config.json: 100%"
          }
        },
        "e835081034b047edb1fd4a4651cf4b69": {
          "model_module": "@jupyter-widgets/controls",
          "model_module_version": "1.5.0",
          "model_name": "HTMLModel",
          "state": {
            "_dom_classes": [],
            "_model_module": "@jupyter-widgets/controls",
            "_model_module_version": "1.5.0",
            "_model_name": "HTMLModel",
            "_view_count": null,
            "_view_module": "@jupyter-widgets/controls",
            "_view_module_version": "1.5.0",
            "_view_name": "HTMLView",
            "description": "",
            "description_tooltip": null,
            "layout": "IPY_MODEL_696b9933d1ee4579850a57b5bbac4fde",
            "placeholder": "​",
            "style": "IPY_MODEL_63d5bf680b004f499977f53a8475fbca",
            "value": "model.safetensors: 100%"
          }
        },
        "ff5e6a00e2224e7b8e1a12d9e9fd4543": {
          "model_module": "@jupyter-widgets/base",
          "model_module_version": "1.2.0",
          "model_name": "LayoutModel",
          "state": {
            "_model_module": "@jupyter-widgets/base",
            "_model_module_version": "1.2.0",
            "_model_name": "LayoutModel",
            "_view_count": null,
            "_view_module": "@jupyter-widgets/base",
            "_view_module_version": "1.2.0",
            "_view_name": "LayoutView",
            "align_content": null,
            "align_items": null,
            "align_self": null,
            "border": null,
            "bottom": null,
            "display": null,
            "flex": null,
            "flex_flow": null,
            "grid_area": null,
            "grid_auto_columns": null,
            "grid_auto_flow": null,
            "grid_auto_rows": null,
            "grid_column": null,
            "grid_gap": null,
            "grid_row": null,
            "grid_template_areas": null,
            "grid_template_columns": null,
            "grid_template_rows": null,
            "height": null,
            "justify_content": null,
            "justify_items": null,
            "left": null,
            "margin": null,
            "max_height": null,
            "max_width": null,
            "min_height": null,
            "min_width": null,
            "object_fit": null,
            "object_position": null,
            "order": null,
            "overflow": null,
            "overflow_x": null,
            "overflow_y": null,
            "padding": null,
            "right": null,
            "top": null,
            "visibility": null,
            "width": null
          }
        }
      }
    }
  },
  "nbformat": 4,
  "nbformat_minor": 0
}
